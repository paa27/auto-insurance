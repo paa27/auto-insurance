{
 "cells": [
  {
   "cell_type": "markdown",
   "metadata": {},
   "source": [
    "# Prediction pipeline for test set"
   ]
  },
  {
   "cell_type": "code",
   "execution_count": 1,
   "metadata": {},
   "outputs": [],
   "source": [
    "%load_ext autoreload\n",
    "%autoreload 2\n",
    "\n",
    "import pandas as pd\n",
    "import numpy as np\n",
    "import matplotlib.pyplot as plt\n",
    "import seaborn as sns\n",
    "import xgboost as xgb\n",
    "from sklearn.model_selection import train_test_split\n",
    "\n",
    "import src.feature_processor as fp\n",
    "import src.model as model\n",
    "import src.utils as utils"
   ]
  },
  {
   "cell_type": "code",
   "execution_count": 2,
   "metadata": {},
   "outputs": [],
   "source": [
    "# Load data\n",
    "train_path = '../data/train.xlsx'\n",
    "test_path = '../data/test.xlsx'\n",
    "\n",
    "train_data_raw, test_data_raw = pd.read_excel(train_path), pd.read_excel(test_path)"
   ]
  },
  {
   "cell_type": "code",
   "execution_count": null,
   "metadata": {},
   "outputs": [
    {
     "name": "stdout",
     "output_type": "stream",
     "text": [
      "Total NaN train values: 0\n",
      "Total NaN test values: 0\n"
     ]
    }
   ],
   "source": [
    "# Fit and transform training data\n",
    "# Final run, we feed entire train set to fit the model\n",
    "\n",
    "feature_processor = fp.FeatureProcessor()\n",
    "\n",
    "train_processed = feature_processor.fit_transform(train_data_raw)\n",
    "test_processed = feature_processor.transform(test_data_raw)\n",
    "\n",
    "nan_counts_train = train_processed.isna().sum()\n",
    "nan_counts_test = test_processed.isna().sum()\n",
    "print(f\"Total NaN train values: {nan_counts_train.sum()}\")\n",
    "print(f\"Total NaN test values: {nan_counts_test.sum()}\")"
   ]
  },
  {
   "cell_type": "code",
   "execution_count": 7,
   "metadata": {},
   "outputs": [],
   "source": [
    "# Prepare data for model\n",
    "X_train = train_processed.drop(['quote_id', 'competitor_lowest_price'], axis=1)\n",
    "y_train = train_processed['competitor_lowest_price']\n",
    "\n",
    "X_test = test_processed.drop(['quote_id'], axis=1)\n",
    "quote_ids = test_processed['quote_id']"
   ]
  },
  {
   "cell_type": "code",
   "execution_count": 9,
   "metadata": {},
   "outputs": [
    {
     "name": "stdout",
     "output_type": "stream",
     "text": [
      "[0]\ttrain-quantile:4.93578\tval-quantile:4.93578\n"
     ]
    },
    {
     "name": "stderr",
     "output_type": "stream",
     "text": [
      "/Users/paarruti/Documents/auto-insurance/venv/lib/python3.10/site-packages/xgboost/callback.py:386: UserWarning: [19:46:54] WARNING: /Users/runner/work/xgboost/xgboost/src/learner.cc:738: \n",
      "Parameters: { \"num_boost_round\" } are not used.\n",
      "\n",
      "  self.starting_round = model.num_boosted_rounds()\n"
     ]
    },
    {
     "name": "stdout",
     "output_type": "stream",
     "text": [
      "[100]\ttrain-quantile:4.28586\tval-quantile:4.28586\n",
      "[200]\ttrain-quantile:4.20222\tval-quantile:4.20222\n",
      "[299]\ttrain-quantile:4.16793\tval-quantile:4.16793\n",
      "[0]\ttrain-quantile:9.37116\tval-quantile:9.37116\n"
     ]
    },
    {
     "name": "stderr",
     "output_type": "stream",
     "text": [
      "/Users/paarruti/Documents/auto-insurance/venv/lib/python3.10/site-packages/xgboost/callback.py:386: UserWarning: [19:46:56] WARNING: /Users/runner/work/xgboost/xgboost/src/learner.cc:738: \n",
      "Parameters: { \"num_boost_round\" } are not used.\n",
      "\n",
      "  self.starting_round = model.num_boosted_rounds()\n"
     ]
    },
    {
     "name": "stdout",
     "output_type": "stream",
     "text": [
      "[100]\ttrain-quantile:7.93288\tval-quantile:7.93288\n",
      "[200]\ttrain-quantile:7.77439\tval-quantile:7.77439\n",
      "[299]\ttrain-quantile:7.70471\tval-quantile:7.70471\n",
      "[0]\ttrain-quantile:13.44998\tval-quantile:13.44998\n"
     ]
    },
    {
     "name": "stderr",
     "output_type": "stream",
     "text": [
      "/Users/paarruti/Documents/auto-insurance/venv/lib/python3.10/site-packages/xgboost/callback.py:386: UserWarning: [19:46:58] WARNING: /Users/runner/work/xgboost/xgboost/src/learner.cc:738: \n",
      "Parameters: { \"num_boost_round\" } are not used.\n",
      "\n",
      "  self.starting_round = model.num_boosted_rounds()\n"
     ]
    },
    {
     "name": "stdout",
     "output_type": "stream",
     "text": [
      "[100]\ttrain-quantile:11.17299\tval-quantile:11.17299\n",
      "[200]\ttrain-quantile:10.94762\tval-quantile:10.94762\n",
      "[299]\ttrain-quantile:10.83195\tval-quantile:10.83195\n",
      "[0]\ttrain-quantile:17.24370\tval-quantile:17.24370\n"
     ]
    },
    {
     "name": "stderr",
     "output_type": "stream",
     "text": [
      "/Users/paarruti/Documents/auto-insurance/venv/lib/python3.10/site-packages/xgboost/callback.py:386: UserWarning: [19:47:00] WARNING: /Users/runner/work/xgboost/xgboost/src/learner.cc:738: \n",
      "Parameters: { \"num_boost_round\" } are not used.\n",
      "\n",
      "  self.starting_round = model.num_boosted_rounds()\n"
     ]
    },
    {
     "name": "stdout",
     "output_type": "stream",
     "text": [
      "[100]\ttrain-quantile:14.05337\tval-quantile:14.05337\n",
      "[200]\ttrain-quantile:13.74997\tval-quantile:13.74997\n",
      "[299]\ttrain-quantile:13.60583\tval-quantile:13.60583\n",
      "[0]\ttrain-quantile:20.73932\tval-quantile:20.73932\n"
     ]
    },
    {
     "name": "stderr",
     "output_type": "stream",
     "text": [
      "/Users/paarruti/Documents/auto-insurance/venv/lib/python3.10/site-packages/xgboost/callback.py:386: UserWarning: [19:47:03] WARNING: /Users/runner/work/xgboost/xgboost/src/learner.cc:738: \n",
      "Parameters: { \"num_boost_round\" } are not used.\n",
      "\n",
      "  self.starting_round = model.num_boosted_rounds()\n"
     ]
    },
    {
     "name": "stdout",
     "output_type": "stream",
     "text": [
      "[100]\ttrain-quantile:16.63402\tval-quantile:16.63402\n",
      "[200]\ttrain-quantile:16.24282\tval-quantile:16.24282\n",
      "[299]\ttrain-quantile:16.06412\tval-quantile:16.06412\n",
      "[0]\ttrain-quantile:23.92243\tval-quantile:23.92243\n"
     ]
    },
    {
     "name": "stderr",
     "output_type": "stream",
     "text": [
      "/Users/paarruti/Documents/auto-insurance/venv/lib/python3.10/site-packages/xgboost/callback.py:386: UserWarning: [19:47:05] WARNING: /Users/runner/work/xgboost/xgboost/src/learner.cc:738: \n",
      "Parameters: { \"num_boost_round\" } are not used.\n",
      "\n",
      "  self.starting_round = model.num_boosted_rounds()\n"
     ]
    },
    {
     "name": "stdout",
     "output_type": "stream",
     "text": [
      "[100]\ttrain-quantile:18.86597\tval-quantile:18.86597\n",
      "[200]\ttrain-quantile:18.42884\tval-quantile:18.42884\n",
      "[299]\ttrain-quantile:18.22267\tval-quantile:18.22267\n",
      "[0]\ttrain-quantile:26.75175\tval-quantile:26.75175\n"
     ]
    },
    {
     "name": "stderr",
     "output_type": "stream",
     "text": [
      "/Users/paarruti/Documents/auto-insurance/venv/lib/python3.10/site-packages/xgboost/callback.py:386: UserWarning: [19:47:07] WARNING: /Users/runner/work/xgboost/xgboost/src/learner.cc:738: \n",
      "Parameters: { \"num_boost_round\" } are not used.\n",
      "\n",
      "  self.starting_round = model.num_boosted_rounds()\n"
     ]
    },
    {
     "name": "stdout",
     "output_type": "stream",
     "text": [
      "[100]\ttrain-quantile:20.79597\tval-quantile:20.79597\n",
      "[200]\ttrain-quantile:20.29141\tval-quantile:20.29141\n",
      "[299]\ttrain-quantile:20.05881\tval-quantile:20.05881\n",
      "[0]\ttrain-quantile:29.20549\tval-quantile:29.20549\n"
     ]
    },
    {
     "name": "stderr",
     "output_type": "stream",
     "text": [
      "/Users/paarruti/Documents/auto-insurance/venv/lib/python3.10/site-packages/xgboost/callback.py:386: UserWarning: [19:47:09] WARNING: /Users/runner/work/xgboost/xgboost/src/learner.cc:738: \n",
      "Parameters: { \"num_boost_round\" } are not used.\n",
      "\n",
      "  self.starting_round = model.num_boosted_rounds()\n"
     ]
    },
    {
     "name": "stdout",
     "output_type": "stream",
     "text": [
      "[100]\ttrain-quantile:22.39023\tval-quantile:22.39023\n",
      "[200]\ttrain-quantile:21.84084\tval-quantile:21.84084\n",
      "[299]\ttrain-quantile:21.58991\tval-quantile:21.58991\n",
      "[0]\ttrain-quantile:31.25364\tval-quantile:31.25364\n"
     ]
    },
    {
     "name": "stderr",
     "output_type": "stream",
     "text": [
      "/Users/paarruti/Documents/auto-insurance/venv/lib/python3.10/site-packages/xgboost/callback.py:386: UserWarning: [19:47:11] WARNING: /Users/runner/work/xgboost/xgboost/src/learner.cc:738: \n",
      "Parameters: { \"num_boost_round\" } are not used.\n",
      "\n",
      "  self.starting_round = model.num_boosted_rounds()\n"
     ]
    },
    {
     "name": "stdout",
     "output_type": "stream",
     "text": [
      "[100]\ttrain-quantile:23.65674\tval-quantile:23.65674\n",
      "[200]\ttrain-quantile:23.08376\tval-quantile:23.08376\n",
      "[299]\ttrain-quantile:22.81038\tval-quantile:22.81038\n",
      "[0]\ttrain-quantile:32.85107\tval-quantile:32.85107\n"
     ]
    },
    {
     "name": "stderr",
     "output_type": "stream",
     "text": [
      "/Users/paarruti/Documents/auto-insurance/venv/lib/python3.10/site-packages/xgboost/callback.py:386: UserWarning: [19:47:13] WARNING: /Users/runner/work/xgboost/xgboost/src/learner.cc:738: \n",
      "Parameters: { \"num_boost_round\" } are not used.\n",
      "\n",
      "  self.starting_round = model.num_boosted_rounds()\n"
     ]
    },
    {
     "name": "stdout",
     "output_type": "stream",
     "text": [
      "[100]\ttrain-quantile:24.61482\tval-quantile:24.61482\n",
      "[200]\ttrain-quantile:23.98985\tval-quantile:23.98985\n",
      "[299]\ttrain-quantile:23.71496\tval-quantile:23.71496\n",
      "[0]\ttrain-quantile:33.93632\tval-quantile:33.93632\n"
     ]
    },
    {
     "name": "stderr",
     "output_type": "stream",
     "text": [
      "/Users/paarruti/Documents/auto-insurance/venv/lib/python3.10/site-packages/xgboost/callback.py:386: UserWarning: [19:47:16] WARNING: /Users/runner/work/xgboost/xgboost/src/learner.cc:738: \n",
      "Parameters: { \"num_boost_round\" } are not used.\n",
      "\n",
      "  self.starting_round = model.num_boosted_rounds()\n"
     ]
    },
    {
     "name": "stdout",
     "output_type": "stream",
     "text": [
      "[100]\ttrain-quantile:25.15332\tval-quantile:25.15332\n",
      "[200]\ttrain-quantile:24.49514\tval-quantile:24.49514\n",
      "[299]\ttrain-quantile:24.19947\tval-quantile:24.19947\n",
      "[0]\ttrain-quantile:34.44374\tval-quantile:34.44374\n"
     ]
    },
    {
     "name": "stderr",
     "output_type": "stream",
     "text": [
      "/Users/paarruti/Documents/auto-insurance/venv/lib/python3.10/site-packages/xgboost/callback.py:386: UserWarning: [19:47:18] WARNING: /Users/runner/work/xgboost/xgboost/src/learner.cc:738: \n",
      "Parameters: { \"num_boost_round\" } are not used.\n",
      "\n",
      "  self.starting_round = model.num_boosted_rounds()\n"
     ]
    },
    {
     "name": "stdout",
     "output_type": "stream",
     "text": [
      "[100]\ttrain-quantile:25.32288\tval-quantile:25.32288\n",
      "[200]\ttrain-quantile:24.61244\tval-quantile:24.61244\n",
      "[299]\ttrain-quantile:24.29541\tval-quantile:24.29541\n",
      "[0]\ttrain-quantile:34.27888\tval-quantile:34.27888\n"
     ]
    },
    {
     "name": "stderr",
     "output_type": "stream",
     "text": [
      "/Users/paarruti/Documents/auto-insurance/venv/lib/python3.10/site-packages/xgboost/callback.py:386: UserWarning: [19:47:20] WARNING: /Users/runner/work/xgboost/xgboost/src/learner.cc:738: \n",
      "Parameters: { \"num_boost_round\" } are not used.\n",
      "\n",
      "  self.starting_round = model.num_boosted_rounds()\n"
     ]
    },
    {
     "name": "stdout",
     "output_type": "stream",
     "text": [
      "[100]\ttrain-quantile:24.99895\tval-quantile:24.99895\n",
      "[200]\ttrain-quantile:24.29924\tval-quantile:24.29924\n",
      "[299]\ttrain-quantile:23.98422\tval-quantile:23.98422\n",
      "[0]\ttrain-quantile:33.35335\tval-quantile:33.35335\n"
     ]
    },
    {
     "name": "stderr",
     "output_type": "stream",
     "text": [
      "/Users/paarruti/Documents/auto-insurance/venv/lib/python3.10/site-packages/xgboost/callback.py:386: UserWarning: [19:47:22] WARNING: /Users/runner/work/xgboost/xgboost/src/learner.cc:738: \n",
      "Parameters: { \"num_boost_round\" } are not used.\n",
      "\n",
      "  self.starting_round = model.num_boosted_rounds()\n"
     ]
    },
    {
     "name": "stdout",
     "output_type": "stream",
     "text": [
      "[100]\ttrain-quantile:24.21592\tval-quantile:24.21592\n",
      "[200]\ttrain-quantile:23.49936\tval-quantile:23.49936\n",
      "[299]\ttrain-quantile:23.17430\tval-quantile:23.17430\n",
      "[0]\ttrain-quantile:31.53504\tval-quantile:31.53504\n"
     ]
    },
    {
     "name": "stderr",
     "output_type": "stream",
     "text": [
      "/Users/paarruti/Documents/auto-insurance/venv/lib/python3.10/site-packages/xgboost/callback.py:386: UserWarning: [19:47:24] WARNING: /Users/runner/work/xgboost/xgboost/src/learner.cc:738: \n",
      "Parameters: { \"num_boost_round\" } are not used.\n",
      "\n",
      "  self.starting_round = model.num_boosted_rounds()\n"
     ]
    },
    {
     "name": "stdout",
     "output_type": "stream",
     "text": [
      "[100]\ttrain-quantile:22.90558\tval-quantile:22.90558\n",
      "[200]\ttrain-quantile:22.16931\tval-quantile:22.16931\n",
      "[299]\ttrain-quantile:21.87693\tval-quantile:21.87693\n",
      "[0]\ttrain-quantile:28.65483\tval-quantile:28.65483\n"
     ]
    },
    {
     "name": "stderr",
     "output_type": "stream",
     "text": [
      "/Users/paarruti/Documents/auto-insurance/venv/lib/python3.10/site-packages/xgboost/callback.py:386: UserWarning: [19:47:26] WARNING: /Users/runner/work/xgboost/xgboost/src/learner.cc:738: \n",
      "Parameters: { \"num_boost_round\" } are not used.\n",
      "\n",
      "  self.starting_round = model.num_boosted_rounds()\n"
     ]
    },
    {
     "name": "stdout",
     "output_type": "stream",
     "text": [
      "[100]\ttrain-quantile:20.90629\tval-quantile:20.90629\n",
      "[200]\ttrain-quantile:20.19566\tval-quantile:20.19566\n",
      "[299]\ttrain-quantile:19.91855\tval-quantile:19.91855\n",
      "[0]\ttrain-quantile:24.47979\tval-quantile:24.47979\n"
     ]
    },
    {
     "name": "stderr",
     "output_type": "stream",
     "text": [
      "/Users/paarruti/Documents/auto-insurance/venv/lib/python3.10/site-packages/xgboost/callback.py:386: UserWarning: [19:47:28] WARNING: /Users/runner/work/xgboost/xgboost/src/learner.cc:738: \n",
      "Parameters: { \"num_boost_round\" } are not used.\n",
      "\n",
      "  self.starting_round = model.num_boosted_rounds()\n"
     ]
    },
    {
     "name": "stdout",
     "output_type": "stream",
     "text": [
      "[100]\ttrain-quantile:18.08711\tval-quantile:18.08711\n",
      "[200]\ttrain-quantile:17.48066\tval-quantile:17.48066\n",
      "[299]\ttrain-quantile:17.21494\tval-quantile:17.21494\n",
      "[0]\ttrain-quantile:18.70658\tval-quantile:18.70658\n"
     ]
    },
    {
     "name": "stderr",
     "output_type": "stream",
     "text": [
      "/Users/paarruti/Documents/auto-insurance/venv/lib/python3.10/site-packages/xgboost/callback.py:386: UserWarning: [19:47:31] WARNING: /Users/runner/work/xgboost/xgboost/src/learner.cc:738: \n",
      "Parameters: { \"num_boost_round\" } are not used.\n",
      "\n",
      "  self.starting_round = model.num_boosted_rounds()\n"
     ]
    },
    {
     "name": "stdout",
     "output_type": "stream",
     "text": [
      "[100]\ttrain-quantile:14.22890\tval-quantile:14.22890\n",
      "[200]\ttrain-quantile:13.75774\tval-quantile:13.75774\n",
      "[299]\ttrain-quantile:13.56908\tval-quantile:13.56908\n",
      "[0]\ttrain-quantile:10.78647\tval-quantile:10.78647\n"
     ]
    },
    {
     "name": "stderr",
     "output_type": "stream",
     "text": [
      "/Users/paarruti/Documents/auto-insurance/venv/lib/python3.10/site-packages/xgboost/callback.py:386: UserWarning: [19:47:33] WARNING: /Users/runner/work/xgboost/xgboost/src/learner.cc:738: \n",
      "Parameters: { \"num_boost_round\" } are not used.\n",
      "\n",
      "  self.starting_round = model.num_boosted_rounds()\n"
     ]
    },
    {
     "name": "stdout",
     "output_type": "stream",
     "text": [
      "[100]\ttrain-quantile:8.81317\tval-quantile:8.81317\n",
      "[200]\ttrain-quantile:8.56639\tval-quantile:8.56639\n",
      "[299]\ttrain-quantile:8.45083\tval-quantile:8.45083\n"
     ]
    }
   ],
   "source": [
    "pricing_model = model.PricingModel()\n",
    "pricing_model.train_base_models(X_train, y_train, X_train, y_train)"
   ]
  },
  {
   "cell_type": "code",
   "execution_count": 10,
   "metadata": {},
   "outputs": [
    {
     "name": "stdout",
     "output_type": "stream",
     "text": [
      "==========================================================\n",
      "n_gen  |  n_eval  | n_nds  |      eps      |   indicator  \n",
      "==========================================================\n",
      "     1 |      100 |     20 |             - |             -\n",
      "     2 |      200 |     29 |  0.0135722893 |             f\n",
      "     3 |      300 |     41 |  0.0086755350 |         ideal\n",
      "     4 |      400 |     57 |  0.0075331822 |             f\n",
      "     5 |      500 |     74 |  0.0049439068 |             f\n",
      "     6 |      600 |     95 |  0.0033046373 |             f\n",
      "     7 |      700 |    100 |  0.0035287185 |             f\n",
      "     8 |      800 |    100 |  0.0029328985 |             f\n",
      "     9 |      900 |    100 |  0.0026035364 |             f\n",
      "    10 |     1000 |    100 |  0.0022950591 |             f\n",
      "    11 |     1100 |    100 |  0.0038878287 |             f\n",
      "    12 |     1200 |    100 |  0.0012620237 |             f\n",
      "    13 |     1300 |    100 |  0.0024751265 |             f\n",
      "    14 |     1400 |    100 |  0.0031154109 |             f\n",
      "    15 |     1500 |    100 |  0.0016091461 |             f\n",
      "    16 |     1600 |    100 |  0.0033270471 |             f\n",
      "    17 |     1700 |    100 |  0.0027985075 |         ideal\n",
      "    18 |     1800 |    100 |  0.0015459469 |             f\n",
      "    19 |     1900 |    100 |  0.0027642580 |             f\n",
      "    20 |     2000 |    100 |  0.0013891996 |             f\n",
      "    21 |     2100 |    100 |  0.0037356227 |         nadir\n",
      "    22 |     2200 |    100 |  0.0014395657 |             f\n",
      "    23 |     2300 |    100 |  0.0025454401 |             f\n",
      "    24 |     2400 |    100 |  0.0015252133 |             f\n",
      "    25 |     2500 |    100 |  0.0024124739 |             f\n",
      "    26 |     2600 |    100 |  0.0042120160 |         ideal\n",
      "    27 |     2700 |    100 |  0.0010157269 |             f\n",
      "    28 |     2800 |    100 |  0.0023016952 |             f\n",
      "    29 |     2900 |    100 |  0.0026785289 |             f\n",
      "    30 |     3000 |    100 |  0.0011077290 |             f\n",
      "    31 |     3100 |    100 |  0.0025040754 |         ideal\n",
      "    32 |     3200 |    100 |  0.0012856564 |             f\n",
      "    33 |     3300 |    100 |  0.0025308451 |             f\n",
      "    34 |     3400 |    100 |  0.0014940908 |             f\n",
      "    35 |     3500 |    100 |  0.0019074909 |             f\n",
      "    36 |     3600 |    100 |  0.0029424099 |             f\n",
      "    37 |     3700 |    100 |  0.0015265371 |             f\n",
      "    38 |     3800 |    100 |  0.0026401394 |             f\n",
      "    39 |     3900 |    100 |  0.0018663263 |             f\n",
      "    40 |     4000 |    100 |  0.0025939964 |             f\n",
      "    41 |     4100 |    100 |  0.0013480137 |             f\n",
      "    42 |     4200 |    100 |  0.0024043705 |             f\n",
      "    43 |     4300 |    100 |  0.0027744908 |             f\n",
      "    44 |     4400 |    100 |  0.0017046261 |             f\n",
      "    45 |     4500 |    100 |  0.0025696205 |             f\n",
      "    46 |     4600 |    100 |  0.0014512405 |             f\n",
      "    47 |     4700 |    100 |  0.0025944181 |             f\n",
      "    48 |     4800 |    100 |  0.0018585842 |             f\n",
      "    49 |     4900 |    100 |  0.0026358965 |             f\n",
      "    50 |     5000 |    100 |  0.0013147115 |             f\n",
      "    51 |     5100 |    100 |  0.0027797949 |             f\n",
      "    52 |     5200 |    100 |  0.0016202888 |             f\n",
      "    53 |     5300 |    100 |  0.0024464602 |             f\n",
      "    54 |     5400 |    100 |  0.0033388724 |             f\n",
      "    55 |     5500 |    100 |  0.0016553423 |             f\n",
      "    56 |     5600 |    100 |  0.0030149191 |             f\n",
      "    57 |     5700 |    100 |  0.0019445964 |             f\n",
      "    58 |     5800 |    100 |  0.0028059216 |             f\n",
      "    59 |     5900 |    100 |  0.0015624404 |             f\n",
      "    60 |     6000 |    100 |  0.0024457990 |             f\n",
      "    61 |     6100 |    100 |  0.0029712192 |             f\n",
      "    62 |     6200 |    100 |  0.0016686461 |             f\n",
      "    63 |     6300 |    100 |  0.0024540297 |             f\n",
      "    64 |     6400 |    100 |  0.0028818666 |             f\n",
      "    65 |     6500 |    100 |  0.0016198971 |             f\n",
      "    66 |     6600 |    100 |  0.0024256065 |             f\n",
      "    67 |     6700 |    100 |  0.0030915447 |             f\n",
      "    68 |     6800 |    100 |  0.0012436008 |             f\n",
      "    69 |     6900 |    100 |  0.0031775954 |             f\n",
      "    70 |     7000 |    100 |  0.0014075536 |             f\n",
      "    71 |     7100 |    100 |  0.0026285923 |             f\n",
      "    72 |     7200 |    100 |  0.0019893651 |             f\n",
      "    73 |     7300 |    100 |  0.0029554385 |             f\n",
      "    74 |     7400 |    100 |  0.0013501440 |             f\n",
      "    75 |     7500 |    100 |  0.0019558003 |             f\n",
      "    76 |     7600 |    100 |  0.0022183752 |             f\n",
      "    77 |     7700 |    100 |  0.0027970558 |             f\n",
      "    78 |     7800 |    100 |  0.0010778199 |             f\n",
      "    79 |     7900 |    100 |  0.0026387571 |             f\n",
      "    80 |     8000 |    100 |  0.0013472479 |             f\n",
      "    81 |     8100 |    100 |  0.0022513793 |             f\n",
      "    82 |     8200 |    100 |  0.0031667281 |             f\n",
      "    83 |     8300 |    100 |  0.0015234055 |             f\n",
      "    84 |     8400 |    100 |  0.0023760631 |             f\n",
      "    85 |     8500 |    100 |  0.0030955331 |             f\n",
      "    86 |     8600 |    100 |  0.0014030305 |             f\n",
      "    87 |     8700 |    100 |  0.0026566210 |             f\n",
      "    88 |     8800 |    100 |  0.0010488915 |             f\n",
      "    89 |     8900 |    100 |  0.0020152229 |             f\n",
      "    90 |     9000 |    100 |  0.0032188969 |             f\n",
      "    91 |     9100 |    100 |  0.0012968248 |             f\n",
      "    92 |     9200 |    100 |  0.0023748311 |             f\n",
      "    93 |     9300 |    100 |  0.0028436795 |             f\n",
      "    94 |     9400 |    100 |  0.0014799217 |             f\n",
      "    95 |     9500 |    100 |  0.0022424350 |             f\n",
      "    96 |     9600 |    100 |  0.0028821214 |             f\n",
      "    97 |     9700 |    100 |  0.0014239793 |             f\n",
      "    98 |     9800 |    100 |  0.0022372459 |             f\n",
      "    99 |     9900 |    100 |  0.0027316568 |             f\n",
      "   100 |    10000 |    100 |  0.0015829671 |             f\n"
     ]
    }
   ],
   "source": [
    "pricing_model.optimize_pricing_strategy(X_train, y_train)"
   ]
  },
  {
   "cell_type": "code",
   "execution_count": 37,
   "metadata": {},
   "outputs": [
    {
     "name": "stdout",
     "output_type": "stream",
     "text": [
      "Market share: 0.3153160337485446, Avg loss: 43.48627896863117\n",
      "pred_quantile: 0.13447653713853122\n",
      "upper_quantile: 0.7532799090014562\n",
      "lower_quantile: 0.15953994083534181\n",
      "spread_switch: -0.482243561916456\n"
     ]
    }
   ],
   "source": [
    "params, market_share, avg_loss = pricing_model.select_optimized_pricing_strategy(market_share_threshold=0.31)\n",
    "print(f\"Market share: {market_share}, Avg loss: {avg_loss}\")\n",
    "for var_name, var_value in zip(model.PricingOptimizationProblem.VAR_NAMES, params):\n",
    "    print(f\"{var_name}: {var_value}\")"
   ]
  },
  {
   "cell_type": "code",
   "execution_count": 29,
   "metadata": {},
   "outputs": [],
   "source": [
    "y_test = pricing_model.predict(X_test)\n",
    "y_test[y_test > 100000] = np.nan\n",
    "y_test_df = pd.DataFrame({'quote_id': quote_ids, 'proposed_price': y_test})"
   ]
  },
  {
   "cell_type": "markdown",
   "metadata": {},
   "source": [
    "# Sanity checks on test set"
   ]
  },
  {
   "cell_type": "code",
   "execution_count": 30,
   "metadata": {},
   "outputs": [],
   "source": [
    "y_train_opti = pricing_model.predict(X_train)\n",
    "y_train_opti[y_train_opti > 100000] = np.nan\n",
    "y_train_opti_df = pd.DataFrame({'quote_id': train_processed['quote_id'], 'proposed_price': y_train_opti})"
   ]
  },
  {
   "cell_type": "code",
   "execution_count": 36,
   "metadata": {},
   "outputs": [
    {
     "data": {
      "image/png": "[encoded data removed]",
      "text/plain": [
       "<Figure size 640x480 with 1 Axes>"
      ]
     },
     "metadata": {},
     "output_type": "display_data"
    }
   ],
   "source": [
    "y_test_proposed = y_test_df[y_test_df['proposed_price'].notna()]\n",
    "y_test_not_proposed = y_test_df[y_test_df['proposed_price'].isna()]\n",
    "y_train_proposed = y_train_opti_df[y_train_opti_df['proposed_price'].notna()]\n",
    "y_train_not_proposed = y_train_opti_df[y_train_opti_df['proposed_price'].isna()]\n",
    "\n",
    "ratio_proposed_test = len(y_test_proposed)/len(y_test_df)\n",
    "ratio_proposed_train = len(y_train_proposed)/len(y_train_opti_df)\n",
    "\n",
    "fig, ax = plt.subplots()\n",
    "y_train.hist(bins=100, ax=ax, label=\"Original train set\", density=True)\n",
    "y_test_proposed.hist(bins=100, ax=ax, density=True, label=f\"Test, proposed ratio: {ratio_proposed_test:.3f}\", alpha=0.5)\n",
    "y_train_proposed.hist(bins=100, ax=ax, density=True, label=f\"Train, proposed ratio: {ratio_proposed_train:.3f}\", alpha=0.5)\n",
    "ax.legend()\n",
    "ax.set_xlabel(\"Price\")\n",
    "ax.set_ylabel(\"Density\")\n",
    "ax.set_title(\"Price distribution\")\n",
    "ax.set_yscale('log')\n",
    "plt.show()\n"
   ]
  },
  {
   "cell_type": "code",
   "execution_count": 32,
   "metadata": {},
   "outputs": [],
   "source": [
    "y_test_df.to_csv('../data/test_evaluation.csv', index=False)"
   ]
  },
  {
   "cell_type": "code",
   "execution_count": null,
   "metadata": {},
   "outputs": [],
   "source": []
  }
 ],
 "metadata": {
  "kernelspec": {
   "display_name": "venv",
   "language": "python",
   "name": "python3"
  },
  "language_info": {
   "codemirror_mode": {
    "name": "ipython",
    "version": 3
   },
   "file_extension": ".py",
   "mimetype": "text/x-python",
   "name": "python",
   "nbconvert_exporter": "python",
   "pygments_lexer": "ipython3",
   "version": "3.10.16"
  }
 },
 "nbformat": 4,
 "nbformat_minor": 2
}
